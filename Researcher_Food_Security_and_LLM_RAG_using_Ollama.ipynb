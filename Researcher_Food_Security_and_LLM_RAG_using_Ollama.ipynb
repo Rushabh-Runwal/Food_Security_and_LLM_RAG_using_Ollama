{
 "cells": [
  {
   "cell_type": "code",
   "execution_count": 1,
   "metadata": {
    "colab": {
     "base_uri": "https://localhost:8080/"
    },
    "collapsed": true,
    "id": "IyLbG8y1go9A",
    "outputId": "4f106ee0-d956-4b53-ee19-3be1d24c89ff"
   },
   "outputs": [
    {
     "name": "stdout",
     "output_type": "stream",
     "text": [
      "Defaulting to user installation because normal site-packages is not writeable\n",
      "Requirement already satisfied: pypdf in /Users/rushabhrunwal/Library/Python/3.9/lib/python/site-packages (5.1.0)\n",
      "Requirement already satisfied: typing_extensions>=4.0 in /Users/rushabhrunwal/Library/Python/3.9/lib/python/site-packages (from pypdf) (4.12.2)\n",
      "\u001b[33mWARNING: You are using pip version 21.2.4; however, version 24.3.1 is available.\n",
      "You should consider upgrading via the '/Library/Developer/CommandLineTools/usr/bin/python3 -m pip install --upgrade pip' command.\u001b[0m\n",
      "Defaulting to user installation because normal site-packages is not writeable\n",
      "Requirement already satisfied: langchain in /Users/rushabhrunwal/Library/Python/3.9/lib/python/site-packages (0.3.7)\n",
      "Requirement already satisfied: langchain_community in /Users/rushabhrunwal/Library/Python/3.9/lib/python/site-packages (0.3.5)\n",
      "Requirement already satisfied: async-timeout<5.0.0,>=4.0.0 in /Users/rushabhrunwal/Library/Python/3.9/lib/python/site-packages (from langchain) (4.0.3)\n",
      "Requirement already satisfied: langchain-core<0.4.0,>=0.3.15 in /Users/rushabhrunwal/Library/Python/3.9/lib/python/site-packages (from langchain) (0.3.15)\n",
      "Requirement already satisfied: requests<3,>=2 in /Users/rushabhrunwal/Library/Python/3.9/lib/python/site-packages (from langchain) (2.32.3)\n",
      "Requirement already satisfied: langchain-text-splitters<0.4.0,>=0.3.0 in /Users/rushabhrunwal/Library/Python/3.9/lib/python/site-packages (from langchain) (0.3.2)\n",
      "Requirement already satisfied: aiohttp<4.0.0,>=3.8.3 in /Users/rushabhrunwal/Library/Python/3.9/lib/python/site-packages (from langchain) (3.10.10)\n",
      "Requirement already satisfied: PyYAML>=5.3 in /Users/rushabhrunwal/Library/Python/3.9/lib/python/site-packages (from langchain) (6.0.2)\n",
      "Requirement already satisfied: tenacity!=8.4.0,<10,>=8.1.0 in /Users/rushabhrunwal/Library/Python/3.9/lib/python/site-packages (from langchain) (9.0.0)\n",
      "Requirement already satisfied: langsmith<0.2.0,>=0.1.17 in /Users/rushabhrunwal/Library/Python/3.9/lib/python/site-packages (from langchain) (0.1.140)\n",
      "Requirement already satisfied: pydantic<3.0.0,>=2.7.4 in /Users/rushabhrunwal/Library/Python/3.9/lib/python/site-packages (from langchain) (2.9.2)\n",
      "Requirement already satisfied: numpy<2,>=1 in /Users/rushabhrunwal/Library/Python/3.9/lib/python/site-packages (from langchain) (1.26.4)\n",
      "Requirement already satisfied: SQLAlchemy<3,>=1.4 in /Users/rushabhrunwal/Library/Python/3.9/lib/python/site-packages (from langchain) (2.0.35)\n",
      "Requirement already satisfied: httpx-sse<0.5.0,>=0.4.0 in /Users/rushabhrunwal/Library/Python/3.9/lib/python/site-packages (from langchain_community) (0.4.0)\n",
      "Requirement already satisfied: dataclasses-json<0.7,>=0.5.7 in /Users/rushabhrunwal/Library/Python/3.9/lib/python/site-packages (from langchain_community) (0.6.7)\n",
      "Requirement already satisfied: pydantic-settings<3.0.0,>=2.4.0 in /Users/rushabhrunwal/Library/Python/3.9/lib/python/site-packages (from langchain_community) (2.6.1)\n",
      "Requirement already satisfied: yarl<2.0,>=1.12.0 in /Users/rushabhrunwal/Library/Python/3.9/lib/python/site-packages (from aiohttp<4.0.0,>=3.8.3->langchain) (1.17.1)\n",
      "Requirement already satisfied: frozenlist>=1.1.1 in /Users/rushabhrunwal/Library/Python/3.9/lib/python/site-packages (from aiohttp<4.0.0,>=3.8.3->langchain) (1.5.0)\n",
      "Requirement already satisfied: aiohappyeyeballs>=2.3.0 in /Users/rushabhrunwal/Library/Python/3.9/lib/python/site-packages (from aiohttp<4.0.0,>=3.8.3->langchain) (2.4.3)\n",
      "Requirement already satisfied: attrs>=17.3.0 in /Users/rushabhrunwal/Library/Python/3.9/lib/python/site-packages (from aiohttp<4.0.0,>=3.8.3->langchain) (24.2.0)\n",
      "Requirement already satisfied: multidict<7.0,>=4.5 in /Users/rushabhrunwal/Library/Python/3.9/lib/python/site-packages (from aiohttp<4.0.0,>=3.8.3->langchain) (6.1.0)\n",
      "Requirement already satisfied: aiosignal>=1.1.2 in /Users/rushabhrunwal/Library/Python/3.9/lib/python/site-packages (from aiohttp<4.0.0,>=3.8.3->langchain) (1.3.1)\n",
      "Requirement already satisfied: typing-inspect<1,>=0.4.0 in /Users/rushabhrunwal/Library/Python/3.9/lib/python/site-packages (from dataclasses-json<0.7,>=0.5.7->langchain_community) (0.9.0)\n",
      "Requirement already satisfied: marshmallow<4.0.0,>=3.18.0 in /Users/rushabhrunwal/Library/Python/3.9/lib/python/site-packages (from dataclasses-json<0.7,>=0.5.7->langchain_community) (3.23.1)\n",
      "Requirement already satisfied: typing-extensions>=4.7 in /Users/rushabhrunwal/Library/Python/3.9/lib/python/site-packages (from langchain-core<0.4.0,>=0.3.15->langchain) (4.12.2)\n",
      "Requirement already satisfied: packaging<25,>=23.2 in /Users/rushabhrunwal/Library/Python/3.9/lib/python/site-packages (from langchain-core<0.4.0,>=0.3.15->langchain) (24.1)\n",
      "Requirement already satisfied: jsonpatch<2.0,>=1.33 in /Users/rushabhrunwal/Library/Python/3.9/lib/python/site-packages (from langchain-core<0.4.0,>=0.3.15->langchain) (1.33)\n",
      "Requirement already satisfied: jsonpointer>=1.9 in /Users/rushabhrunwal/Library/Python/3.9/lib/python/site-packages (from jsonpatch<2.0,>=1.33->langchain-core<0.4.0,>=0.3.15->langchain) (3.0.0)\n",
      "Requirement already satisfied: httpx<1,>=0.23.0 in /Users/rushabhrunwal/Library/Python/3.9/lib/python/site-packages (from langsmith<0.2.0,>=0.1.17->langchain) (0.27.2)\n",
      "Requirement already satisfied: requests-toolbelt<2.0.0,>=1.0.0 in /Users/rushabhrunwal/Library/Python/3.9/lib/python/site-packages (from langsmith<0.2.0,>=0.1.17->langchain) (1.0.0)\n",
      "Requirement already satisfied: orjson<4.0.0,>=3.9.14 in /Users/rushabhrunwal/Library/Python/3.9/lib/python/site-packages (from langsmith<0.2.0,>=0.1.17->langchain) (3.10.11)\n",
      "Requirement already satisfied: httpcore==1.* in /Users/rushabhrunwal/Library/Python/3.9/lib/python/site-packages (from httpx<1,>=0.23.0->langsmith<0.2.0,>=0.1.17->langchain) (1.0.6)\n",
      "Requirement already satisfied: idna in /Users/rushabhrunwal/Library/Python/3.9/lib/python/site-packages (from httpx<1,>=0.23.0->langsmith<0.2.0,>=0.1.17->langchain) (3.10)\n",
      "Requirement already satisfied: sniffio in /Users/rushabhrunwal/Library/Python/3.9/lib/python/site-packages (from httpx<1,>=0.23.0->langsmith<0.2.0,>=0.1.17->langchain) (1.3.1)\n",
      "Requirement already satisfied: anyio in /Users/rushabhrunwal/Library/Python/3.9/lib/python/site-packages (from httpx<1,>=0.23.0->langsmith<0.2.0,>=0.1.17->langchain) (4.6.2.post1)\n",
      "Requirement already satisfied: certifi in /Users/rushabhrunwal/Library/Python/3.9/lib/python/site-packages (from httpx<1,>=0.23.0->langsmith<0.2.0,>=0.1.17->langchain) (2024.8.30)\n",
      "Requirement already satisfied: h11<0.15,>=0.13 in /Users/rushabhrunwal/Library/Python/3.9/lib/python/site-packages (from httpcore==1.*->httpx<1,>=0.23.0->langsmith<0.2.0,>=0.1.17->langchain) (0.14.0)\n",
      "Requirement already satisfied: pydantic-core==2.23.4 in /Users/rushabhrunwal/Library/Python/3.9/lib/python/site-packages (from pydantic<3.0.0,>=2.7.4->langchain) (2.23.4)\n",
      "Requirement already satisfied: annotated-types>=0.6.0 in /Users/rushabhrunwal/Library/Python/3.9/lib/python/site-packages (from pydantic<3.0.0,>=2.7.4->langchain) (0.7.0)\n",
      "Requirement already satisfied: python-dotenv>=0.21.0 in /Users/rushabhrunwal/Library/Python/3.9/lib/python/site-packages (from pydantic-settings<3.0.0,>=2.4.0->langchain_community) (1.0.1)\n",
      "Requirement already satisfied: charset-normalizer<4,>=2 in /Users/rushabhrunwal/Library/Python/3.9/lib/python/site-packages (from requests<3,>=2->langchain) (3.4.0)\n",
      "Requirement already satisfied: urllib3<3,>=1.21.1 in /Users/rushabhrunwal/Library/Python/3.9/lib/python/site-packages (from requests<3,>=2->langchain) (1.26.20)\n",
      "Requirement already satisfied: mypy-extensions>=0.3.0 in /Users/rushabhrunwal/Library/Python/3.9/lib/python/site-packages (from typing-inspect<1,>=0.4.0->dataclasses-json<0.7,>=0.5.7->langchain_community) (1.0.0)\n",
      "Requirement already satisfied: propcache>=0.2.0 in /Users/rushabhrunwal/Library/Python/3.9/lib/python/site-packages (from yarl<2.0,>=1.12.0->aiohttp<4.0.0,>=3.8.3->langchain) (0.2.0)\n",
      "Requirement already satisfied: exceptiongroup>=1.0.2 in /Users/rushabhrunwal/Library/Python/3.9/lib/python/site-packages (from anyio->httpx<1,>=0.23.0->langsmith<0.2.0,>=0.1.17->langchain) (1.2.2)\n",
      "\u001b[33mWARNING: You are using pip version 21.2.4; however, version 24.3.1 is available.\n",
      "You should consider upgrading via the '/Library/Developer/CommandLineTools/usr/bin/python3 -m pip install --upgrade pip' command.\u001b[0m\n",
      "Defaulting to user installation because normal site-packages is not writeable\n",
      "Requirement already satisfied: tiktoken in /Users/rushabhrunwal/Library/Python/3.9/lib/python/site-packages (0.8.0)\n",
      "Requirement already satisfied: regex>=2022.1.18 in /Users/rushabhrunwal/Library/Python/3.9/lib/python/site-packages (from tiktoken) (2024.11.6)\n",
      "Requirement already satisfied: requests>=2.26.0 in /Users/rushabhrunwal/Library/Python/3.9/lib/python/site-packages (from tiktoken) (2.32.3)\n",
      "Requirement already satisfied: urllib3<3,>=1.21.1 in /Users/rushabhrunwal/Library/Python/3.9/lib/python/site-packages (from requests>=2.26.0->tiktoken) (1.26.20)\n",
      "Requirement already satisfied: charset-normalizer<4,>=2 in /Users/rushabhrunwal/Library/Python/3.9/lib/python/site-packages (from requests>=2.26.0->tiktoken) (3.4.0)\n",
      "Requirement already satisfied: certifi>=2017.4.17 in /Users/rushabhrunwal/Library/Python/3.9/lib/python/site-packages (from requests>=2.26.0->tiktoken) (2024.8.30)\n",
      "Requirement already satisfied: idna<4,>=2.5 in /Users/rushabhrunwal/Library/Python/3.9/lib/python/site-packages (from requests>=2.26.0->tiktoken) (3.10)\n",
      "\u001b[33mWARNING: You are using pip version 21.2.4; however, version 24.3.1 is available.\n",
      "You should consider upgrading via the '/Library/Developer/CommandLineTools/usr/bin/python3 -m pip install --upgrade pip' command.\u001b[0m\n"
     ]
    }
   ],
   "source": [
    "!pip3 install pypdf\n",
    "!pip3 install langchain langchain_community\n",
    "!pip3 install tiktoken\n"
   ]
  },
  {
   "cell_type": "code",
   "execution_count": 2,
   "metadata": {
    "id": "SDU3FXy0il6a"
   },
   "outputs": [],
   "source": [
    "CHROMA_PATH = \"chroma\""
   ]
  },
  {
   "cell_type": "code",
   "execution_count": 4,
   "metadata": {
    "id": "SWB-NZDCpoHt"
   },
   "outputs": [],
   "source": [
    "import os\n",
    "import argparse\n",
    "import shutil\n",
    "from langchain.document_loaders.pdf import PyPDFDirectoryLoader\n",
    "from langchain_text_splitters import RecursiveCharacterTextSplitter\n",
    "from langchain.schema.document import Document\n",
    "from langchain.vectorstores.chroma import Chroma\n",
    "from langchain.prompts import ChatPromptTemplate\n",
    "from langchain_community.llms.ollama import Ollama\n",
    "from langchain_community.embeddings.ollama import OllamaEmbeddings"
   ]
  },
  {
   "cell_type": "code",
   "execution_count": 5,
   "metadata": {
    "id": "vPcHzXBdhEht"
   },
   "outputs": [],
   "source": [
    "document_loader = PyPDFDirectoryLoader(\"/Users/rushabhrunwal/Downloads/SOFI_pdfs\") # this  is the path to the folder containing the pdfs\n",
    "documents = document_loader.load()"
   ]
  },
  {
   "cell_type": "code",
   "execution_count": 6,
   "metadata": {
    "id": "2ysqswvIpGwd"
   },
   "outputs": [],
   "source": [
    "text_splitter = RecursiveCharacterTextSplitter(\n",
    "    chunk_size=800,\n",
    "    chunk_overlap=80,\n",
    "    length_function=len,\n",
    "    is_separator_regex=False,\n",
    ")\n",
    "chunks = text_splitter.split_documents(documents)"
   ]
  },
  {
   "cell_type": "code",
   "execution_count": 7,
   "metadata": {
    "id": "ZGmPg5CRpjjS"
   },
   "outputs": [],
   "source": [
    "def get_embedding_function():\n",
    "  embeddings = OllamaEmbeddings(model=\"nomic-embed-text\")\n",
    "  return embeddings"
   ]
  },
  {
   "cell_type": "code",
   "execution_count": 8,
   "metadata": {
    "id": "CGJ-yWR7qJML"
   },
   "outputs": [],
   "source": [
    "\n",
    "def calculate_chunk_ids(chunks):\n",
    "\n",
    "    # This will create IDs like \"data/monopoly.pdf:6:2\"\n",
    "    # Page Source : Page Number : Chunk Index\n",
    "\n",
    "    last_page_id = None\n",
    "    current_chunk_index = 0\n",
    "\n",
    "    for chunk in chunks:\n",
    "        source = chunk.metadata.get(\"source\")\n",
    "        page = chunk.metadata.get(\"page\")\n",
    "        current_page_id = f\"{source}:{page}\"\n",
    "\n",
    "        # If the page ID is the same as the last one, increment the index.\n",
    "        if current_page_id == last_page_id:\n",
    "            current_chunk_index += 1\n",
    "        else:\n",
    "            current_chunk_index = 0\n",
    "\n",
    "        # Calculate the chunk ID.\n",
    "        chunk_id = f\"{current_page_id}:{current_chunk_index}\"\n",
    "        last_page_id = current_page_id\n",
    "        # Add it to the page meta-data.\n",
    "        chunk.metadata[\"id\"] = chunk_id\n",
    "    return chunks\n"
   ]
  },
  {
   "cell_type": "code",
   "execution_count": null,
   "metadata": {
    "id": "rbMg4Yc5qEVB"
   },
   "outputs": [],
   "source": [
    "def add_to_chroma(chunks: list[Document]):\n",
    "    # Load the existing database.\n",
    "    db = Chroma(persist_directory=CHROMA_PATH, embedding_function=get_embedding_function())\n",
    "\n",
    "    # Calculate Page IDs.\n",
    "    chunks_with_ids = calculate_chunk_ids(chunks)\n",
    "\n",
    "    # Add or Update the documents.\n",
    "    existing_items = db.get(include=[])  # IDs are always included by default\n",
    "    existing_ids = set(existing_items[\"ids\"])\n",
    "    print(f\"Number of existing documents in DB: {len(existing_ids)}\")\n",
    "\n",
    "    # Only add documents that don't exist in the DB.\n",
    "    new_chunks = []\n",
    "    for chunk in chunks_with_ids:\n",
    "        if chunk.metadata[\"id\"] not in existing_ids:\n",
    "            new_chunks.append(chunk)\n",
    "\n",
    "    if len(new_chunks):\n",
    "        new_chunk_ids = [chunk.metadata[\"id\"] for chunk in new_chunks]\n",
    "        db.add_documents(new_chunks, ids=new_chunk_ids)\n",
    "        db.persist()\n",
    "        print(f\"Added documents: {len(new_chunks)}\")\n"
   ]
  },
  {
   "cell_type": "code",
   "execution_count": 10,
   "metadata": {
    "colab": {
     "base_uri": "https://localhost:8080/"
    },
    "id": "GxT0YR_kqnEl",
    "outputId": "01ea90f0-c06b-43b4-d75d-78b372f3a851"
   },
   "outputs": [
    {
     "name": "stderr",
     "output_type": "stream",
     "text": [
      "/var/folders/m7/1q9b4n3x3_90cgd4x7g12db80000gn/T/ipykernel_77636/1436976703.py:2: LangChainDeprecationWarning: The class `OllamaEmbeddings` was deprecated in LangChain 0.3.1 and will be removed in 1.0.0. An updated version of the class exists in the :class:`~langchain-ollama package and should be used instead. To use it run `pip install -U :class:`~langchain-ollama` and import as `from :class:`~langchain_ollama import OllamaEmbeddings``.\n",
      "  embeddings = OllamaEmbeddings(model=\"nomic-embed-text\")\n",
      "/var/folders/m7/1q9b4n3x3_90cgd4x7g12db80000gn/T/ipykernel_77636/3927975923.py:3: LangChainDeprecationWarning: The class `Chroma` was deprecated in LangChain 0.2.9 and will be removed in 1.0. An updated version of the class exists in the :class:`~langchain-chroma package and should be used instead. To use it run `pip install -U :class:`~langchain-chroma` and import as `from :class:`~langchain_chroma import Chroma``.\n",
      "  db = Chroma(persist_directory=CHROMA_PATH, embedding_function=get_embedding_function())\n"
     ]
    },
    {
     "name": "stdout",
     "output_type": "stream",
     "text": [
      "Number of existing documents in DB: 0\n",
      "Added documents: 3148\n"
     ]
    },
    {
     "name": "stderr",
     "output_type": "stream",
     "text": [
      "/var/folders/m7/1q9b4n3x3_90cgd4x7g12db80000gn/T/ipykernel_77636/3927975923.py:22: LangChainDeprecationWarning: Since Chroma 0.4.x the manual persistence method is no longer supported as docs are automatically persisted.\n",
      "  db.persist()\n"
     ]
    }
   ],
   "source": [
    "add_to_chroma(chunks)"
   ]
  },
  {
   "cell_type": "code",
   "execution_count": 89,
   "metadata": {},
   "outputs": [],
   "source": [
    "def load_Generative_model():\n",
    "    model = Ollama(model=\"mistral\")\n",
    "    return model\n",
    "model = load_Generative_model()"
   ]
  },
  {
   "cell_type": "code",
   "execution_count": 120,
   "metadata": {},
   "outputs": [],
   "source": [
    "Submission_data = {}"
   ]
  },
  {
   "cell_type": "code",
   "execution_count": 121,
   "metadata": {
    "id": "7EDBqpuXuBVr"
   },
   "outputs": [],
   "source": [
    "def query_rag(query_text: str):\n",
    "    PROMPT_TEMPLATE = \"\"\" Response the question based only on the following context:\n",
    "    {context} \\n\\n\\n\\n\n",
    "    Answer this question based on the above context: \\n {question}\n",
    "    \"\"\"\n",
    "    embedding_function = get_embedding_function()\n",
    "    db = Chroma(persist_directory=CHROMA_PATH, embedding_function=embedding_function)\n",
    "    results = db.similarity_search_with_score(query_text, k=5)\n",
    "\n",
    "    context_text = \"\\n\\n\\n _____________ \\n\\n\\n\".join([doc.page_content.rstrip() for doc, _score in results])\n",
    "    contexts = \"\".join([doc.page_content.rstrip() for doc, _score in results])\n",
    "    context_details = []\n",
    "    for i, (doc, _score) in enumerate(results):\n",
    "        context_details.append([doc.metadata['id'], _score])        \n",
    "    \n",
    "    \n",
    "    prompt_template = ChatPromptTemplate.from_template(PROMPT_TEMPLATE)\n",
    "    prompt = prompt_template.format(context=context_text, question=query_text)\n",
    "\n",
    "    response_text = model.invoke(prompt)\n",
    "    response_to_save = {\"Response\": response_text, \"context_texts\": context_text, \"Sources\": context_details}\n",
    "    Submission_data[query_text] = response_to_save\n",
    "    return response_text\n"
   ]
  },
  {
   "cell_type": "code",
   "execution_count": 122,
   "metadata": {
    "colab": {
     "base_uri": "https://localhost:8080/",
     "height": 920
    },
    "id": "PEV0mM2OrlNC",
    "outputId": "7ae240b4-aac7-49cc-c137-3422a3d426cc"
   },
   "outputs": [
    {
     "name": "stdout",
     "output_type": "stream",
     "text": [
      " The increases in global food prices throughout 2022 (as reported in the 2023 report) have significantly affected food security, as highlighted in the 2024 report. Here's a comparison between the two reports:\n",
      "\n",
      "    - In the 2023 report, the average cost of a healthy diet globally was 3.56 PPP dollars per person per day. However, this figure rose to 3.96 PPP dollars in 2022 (as reported in the 2024 report), marking an increase of 11% between 2021 and 2022. This surge represents a strain on household budgets, particularly for those already struggling with food insecurity.\n",
      "    - The World Food Import Bill was estimated to have reached an all-time high in 2022 (nearly USD $2 trillion), a 10% increase from the 2021 level. This significant rise in import costs affected countries heavily dependent on food imports, exacerbating their food security challenges.\n",
      "    - World fertilizer prices also surged in 2022, primarily due to rising energy and natural gas prices. The global agricultural input import bill increased by 48% in 2022 to USD $424 billion. Higher prices for agricultural inputs can strain farmers' budgets, impacting their ability to afford necessary inputs and potentially reducing food production.\n",
      "    - Additionally, increased investment in renewable energy in 2022 contributed to a major jump in FDIs supportive of food security and nutrition, which can have positive long-term effects on food security if these investments lead to increased agricultural productivity and resilience. However, the short-term impact of this investment increase may not significantly alleviate the challenges caused by higher food prices.\n",
      "\n",
      "    To summarize, the increases in global food prices in 2022, as reported in the 2024 report, have had a detrimental impact on food security by straining household budgets and increasing the cost of food imports for countries heavily dependent on them. These challenges are likely to continue if food prices remain high or continue to rise.\n"
     ]
    }
   ],
   "source": [
    "res = query_rag(\"Explain increase prices impact on food security - comparing 2023 and 2024 reports\")\n",
    "print(res)"
   ]
  },
  {
   "cell_type": "code",
   "execution_count": 123,
   "metadata": {},
   "outputs": [
    {
     "name": "stdout",
     "output_type": "stream",
     "text": [
      "1. Climatic factors: These can include extreme weather events, droughts, floods, and changes in temperature patterns that affect agricultural productivity.\n",
      "\n",
      "2. Economic factors: Economic instability or recession can lead to job losses, reduced income, and increased food prices, making it difficult for people to afford nutritious food.\n",
      "\n",
      "3. Social factors: These could include inequality, poverty, and lack of access to education and healthcare services which can all contribute to food insecurity.\n",
      "\n",
      "4. Political factors: Political instability, conflicts, and poor governance can disrupt food production and distribution, leading to food insecurity.\n",
      "\n",
      "5. Lack of affordability of a healthy diet: The report specifically mentions this as a factor contributing to food insecurity. Improper estimates of the cost and affordability of a healthy diet can contribute to this issue.\n",
      "\n",
      "6. Urbanization: As populations become more urban, diets may shift towards less nutritious foods, which can lead to malnutrition and food insecurity.\n",
      "\n",
      "The context does not provide specific information about the state of food insecurity in 2024. The listed reasons are general factors that can contribute to food insecurity at any given time.\n"
     ]
    }
   ],
   "source": [
    "res = query_rag(\"List major Food insecurity reason in 2024\")\n",
    "print(res)"
   ]
  },
  {
   "cell_type": "code",
   "execution_count": 124,
   "metadata": {},
   "outputs": [
    {
     "name": "stdout",
     "output_type": "stream",
     "text": [
      " The provided context does not explicitly mention malnutrition in war zones. However, it does imply that various forms of malnutrition are expected to increase globally due to the current crises, though the exact impact on war zones is yet to be measured comprehensively.\n",
      "\n",
      "In general, malnutrition in war zones can take several forms. Chronic malnutrition (also known as undernutrition) refers to deficiencies in energy and nutrient intake over a long period of time, resulting in slowed growth and development. Acute malnutrition occurs when there is an immediate lack of food or the body's nutritional requirements are not met due to illness, displacement, or conflict. Both forms can have severe health consequences, including increased susceptibility to disease, stunted physical and cognitive development, and in some cases, death.\n",
      "\n",
      "Additionally, the context mentions the double burden of malnutrition, which refers to the co-existence of undernutrition (undernourishment, micronutrient deficiencies) and overnutrition (overweight, obesity) within a population or an individual. This is particularly relevant in war zones where access to food may be limited, leading to undernutrition, but there may also be disruptions to normal daily activities (such as cooking or exercise), contributing to overnutrition due to sedentary lifestyles and stress-induced eating behaviors.\n",
      "\n",
      "In war zones, factors such as displacement, destruction of infrastructure, disruption of agricultural systems, and limited access to healthcare services can all contribute to increased malnutrition rates. These situations require urgent attention and intervention strategies that address the immediate needs for food and nutrition while also addressing the underlying causes of conflict and instability. Such interventions may include emergency food aid, support for local agriculture, and provision of essential micronutrient supplements, as well as longer-term initiatives to promote peace and stability in affected regions.\n"
     ]
    }
   ],
   "source": [
    "res = query_rag(\"Explain malnutrition in war zones\")\n",
    "print(res)"
   ]
  },
  {
   "cell_type": "code",
   "execution_count": 125,
   "metadata": {},
   "outputs": [
    {
     "name": "stdout",
     "output_type": "stream",
     "text": [
      " The context provided discusses the impact of increasing food prices on food security. Higher food prices can have a detrimental effect on food security, particularly for vulnerable households in certain regions. This is because a healthy diet becomes less affordable with rising prices, placing an additional burden on these households.\n",
      "\n",
      "In 2022, the average cost of a healthy diet globally increased to 3.96 purchasing power parity (PPP) dollars per person per day, up from 3.56 PPP dollars in 2021. This price hike was caused by various factors such as disruptions from the COVID-19 pandemic and the war in Ukraine, which led to significant increases in international food and energy prices, thereby exacerbating inflationary pressures.\n",
      "\n",
      "Moreover, countries that are heavily dependent on food imports were particularly affected by this rise in international food prices. The world food import bill reached an all-time high of nearly USD 2 trillion in 2022, resulting from the increased cost of food imports. In addition to these factors, higher energy and natural gas prices caused a soar in global agricultural input costs, which led to further price increases at local and national levels.\n",
      "\n",
      "In summary, increasing food prices can have a negative impact on food security by making healthy diets less affordable for vulnerable households, particularly in regions such as sub-Saharan Africa and Southern Asia, where rapid urbanization is leading to rising and changing food demand.\n"
     ]
    }
   ],
   "source": [
    "res = query_rag(\"Explain increase prices impact on food security\")\n",
    "print(res)"
   ]
  },
  {
   "cell_type": "code",
   "execution_count": 126,
   "metadata": {},
   "outputs": [
    {
     "name": "stdout",
     "output_type": "stream",
     "text": [
      " Based on the provided context, there is no direct comparison between the reasons for food insecurity in 2023 and 2024 as the report only provides information up to 2023. However, it mentions that global hunger and food insecurity remained at high levels in 2023, with the following factors contributing: climatic, economic, social, and political instability. These factors can lead to acute or chronic food insecurity. The report does not explicitly mention any changes in these factors from 2023 to 2024. Therefore, without further information or a new report for 2024, it is impossible to compare the reasons for food insecurity between these two years.\n"
     ]
    }
   ],
   "source": [
    "res = query_rag(\"Compare list of Food insecurity reason in 2023 and 2024\")\n",
    "print(res)"
   ]
  },
  {
   "cell_type": "code",
   "execution_count": 127,
   "metadata": {},
   "outputs": [
    {
     "name": "stdout",
     "output_type": "stream",
     "text": [
      " According to the provided context, it is estimated that between 2019 and 2022, global hunger increased by approximately 122 million people, which represents an increase of around 15.3% (from 7.9% in 2019 to 9.2% in 2022). However, it's important to note that the data for 2023 is not provided in the context, so the percentage increase from 2022 to 2023 cannot be determined from this information.\n"
     ]
    }
   ],
   "source": [
    "res = query_rag(\"Percentage increase in global hunger\")\n",
    "print(res)"
   ]
  },
  {
   "cell_type": "code",
   "execution_count": 128,
   "metadata": {},
   "outputs": [
    {
     "name": "stdout",
     "output_type": "stream",
     "text": [
      "1. Under-nourishment (Global): The percentage prevalence of undernourishment varies across regions, but according to World Bank data for 2019, the global average was approximately 8.4%. This means that 8.4% of the world's population is undernourished.\n",
      "\n",
      "  2. Low Birthweight (Global): The percentage of low birthweight newborns worldwide in 2019 was about 14.6%. This indicates that, on average, for every 100 live births, 14.6 are classified as low birthweight.\n",
      "\n",
      "  3. Stunting (Global): The global prevalence of stunting among children under the age of five in 2019 was approximately 22%. This means that about one-fifth (20%) of children under five years old are stunted, which can result from chronic malnutrition during their first 1000 days of life.\n",
      "\n",
      "These percentages provide a snapshot of the prevalence of these conditions on a global scale and should be used as a reference for understanding their impact. However, it's important to note that these numbers can vary significantly within regions and countries due to factors like economic status, access to healthcare, and nutrition practices.\n"
     ]
    }
   ],
   "source": [
    "res = query_rag(\"Percentage prevalence of undernourishment, Low Birthweight, and stunting.\")\n",
    "print(res)"
   ]
  },
  {
   "cell_type": "code",
   "execution_count": 129,
   "metadata": {},
   "outputs": [
    {
     "data": {
      "text/plain": [
       "{'Explain increase prices impact on food security - comparing 2023 and 2024 reports': {'Response': \" The increases in global food prices throughout 2022 (as reported in the 2023 report) have significantly affected food security, as highlighted in the 2024 report. Here's a comparison between the two reports:\\n\\n    - In the 2023 report, the average cost of a healthy diet globally was 3.56 PPP dollars per person per day. However, this figure rose to 3.96 PPP dollars in 2022 (as reported in the 2024 report), marking an increase of 11% between 2021 and 2022. This surge represents a strain on household budgets, particularly for those already struggling with food insecurity.\\n    - The World Food Import Bill was estimated to have reached an all-time high in 2022 (nearly USD $2 trillion), a 10% increase from the 2021 level. This significant rise in import costs affected countries heavily dependent on food imports, exacerbating their food security challenges.\\n    - World fertilizer prices also surged in 2022, primarily due to rising energy and natural gas prices. The global agricultural input import bill increased by 48% in 2022 to USD $424 billion. Higher prices for agricultural inputs can strain farmers' budgets, impacting their ability to afford necessary inputs and potentially reducing food production.\\n    - Additionally, increased investment in renewable energy in 2022 contributed to a major jump in FDIs supportive of food security and nutrition, which can have positive long-term effects on food security if these investments lead to increased agricultural productivity and resilience. However, the short-term impact of this investment increase may not significantly alleviate the challenges caused by higher food prices.\\n\\n    To summarize, the increases in global food prices in 2022, as reported in the 2024 report, have had a detrimental impact on food security by straining household budgets and increasing the cost of food imports for countries heavily dependent on them. These challenges are likely to continue if food prices remain high or continue to rise.\",\n",
       "  'context_texts': 'cost and more accurate estimates of the affordability of \\na healthy diet, leading to a revision of the entire series of \\nboth sets of indicators. \\nè Food prices rose throughout 2022, pushing \\nup the average cost of a healthy diet globally to \\n3.96\\xa0purchasing power parity (PPP) dollars per \\nperson per day, up from 3.56 PPP dollars in 2021. \\nDisruptions from the COVID-19 pandemic and the \\nwar in Ukraine contributed to significant increases in \\ninternational food and energy prices, exacerbating \\ninflationary pressures.\\n»\\n| 22 |\\n\\n\\n _____________ \\n\\n\\nIn this year’s edition of the report, the indicators \\nare updated to 2022. a New food price data and \\nmethodological improvements have resulted in \\nupdated estimates of the cost and more accurate \\nestimates of the affordability of a healthy diet, \\nleading to a revision of the entire series of both \\nsets of indicators. \\nThe CoHD has risen worldwide since 2017 \\n(the\\xa0first year for which FAO disseminates \\nestimates) and continued to rise in 2022, peaking \\nat an average of 3.96 PPP dollars per person per \\nday in 2022. This represents a surge in the global \\naverage CoHD, from a 6\\xa0percent increase between \\n2020 and 2021 to an 11 percent increase the \\nfollowing year. \\nWhen compared across regions in 2022, the CoHD \\nwas highest in Latin America and the Caribbean\\n\\n\\n _____________ \\n\\n\\nThe data are available up to the year 2021. For \\nthe years 2022 and 2023, the same value of the \\nyear 2021 is used. \\nTHE STATE OF FOOD SECURITY AND NUTRITION IN THE WORLD 2024\\n\\n\\n _____________ \\n\\n\\nlevels in 2022 ( Table 16 ). If one adds to this the \\nFDIs in other sectors that can be regarded as \\nsupportive expenditure for food security and \\nnutrition (as explained in the Supplementary \\nmaterial to Chapter 4 S4.1 ), one arrives at \\nan additional USD\\xa043\\xa0billon supportive of \\nfood security and nutrition on average over \\nthe period, with a 34\\xa0percent drop in 2020 \\nmainly due to contractions in investment in \\ntransport services and infrastructure and, to \\na lesser extent, in the power sector during the \\npandemic, and a major jump of 112\\xa0percent in \\n2022 caused mainly by increased investment in \\nrenewable energy. \\nBlended financeq represents much more modest \\namounts, according to the limited data available. \\nThe 2023 edition of State of Blended Finance 21\\n\\n\\n _____________ \\n\\n\\nthroughout the year, it remained much higher \\nthan before the pandemic.5  As a result of the \\nhigh international food prices, import costs of \\nfood rose, affecting especially countries that are \\nhighly dependent on food imports. The world \\nfood import bill was estimated to have reached \\nan all-time high in 2022 of nearly USD\\xa02\\xa0trillion, \\nan increase of 10\\xa0percent (nearly USD\\xa0181\\xa0billion) \\nfrom the 2021 level, driven mostly by higher \\nprices.6  World fertilizer prices also soared, \\nmainly as a result of rising energy and natural \\ngas prices. The global agricultural input import \\nbill was estimated to increase by 48\\xa0percent in \\n2022 to USD\\xa0424\\xa0billion. 7  All of these factors \\nhave contributed to higher prices of food at the \\nlocal and national levels, which in turn have',\n",
       "  'Sources': [['/Users/rushabhrunwal/Downloads/SOFI_pdfs/SOFI-2024.pdf:53:5',\n",
       "    232.63970947265625],\n",
       "   ['/Users/rushabhrunwal/Downloads/SOFI_pdfs/SOFI-2024.pdf:20:3',\n",
       "    246.9063262939453],\n",
       "   ['/Users/rushabhrunwal/Downloads/SOFI_pdfs/SOFI-2024.pdf:230:6',\n",
       "    247.5625457763672],\n",
       "   ['/Users/rushabhrunwal/Downloads/SOFI_pdfs/SOFI-2024.pdf:120:1',\n",
       "    249.0907440185547],\n",
       "   ['/Users/rushabhrunwal/Downloads/SOFI_pdfs/SOFI-2023.pdf:41:2',\n",
       "    250.92123413085938]]},\n",
       " 'List major Food insecurity reason in 2024': {'Response': '1. Climatic factors: These can include extreme weather events, droughts, floods, and changes in temperature patterns that affect agricultural productivity.\\n\\n2. Economic factors: Economic instability or recession can lead to job losses, reduced income, and increased food prices, making it difficult for people to afford nutritious food.\\n\\n3. Social factors: These could include inequality, poverty, and lack of access to education and healthcare services which can all contribute to food insecurity.\\n\\n4. Political factors: Political instability, conflicts, and poor governance can disrupt food production and distribution, leading to food insecurity.\\n\\n5. Lack of affordability of a healthy diet: The report specifically mentions this as a factor contributing to food insecurity. Improper estimates of the cost and affordability of a healthy diet can contribute to this issue.\\n\\n6. Urbanization: As populations become more urban, diets may shift towards less nutritious foods, which can lead to malnutrition and food insecurity.\\n\\nThe context does not provide specific information about the state of food insecurity in 2024. The listed reasons are general factors that can contribute to food insecurity at any given time.',\n",
       "  'context_texts': 'lead to acute food insecurity) or medium- \\nto long-term instability (which can lead to \\nchronic food insecurity). Climatic, economic, \\nsocial and political factors can all be a source \\nof instability. \\nThe report also refers to two additional \\ndimensions of food security that are proposed \\nby the High Level Panel of Experts of the \\nCommittee on World Food Security; however, \\nthey are not formally agreed upon by FAO or \\nothers, and an agreed upon language has not\\n\\n\\n _____________ \\n\\n\\nFOOD SECURITY  AND NUTRITION IN THE WORLD\\nTHE STATE OF \\nFINANCING TO END HUNGER, \\nFOOD INSECURITY AND MALNUTRITION \\nIN ALL ITS FORMS\\n2024\\n\\n\\n _____________ \\n\\n\\nof moderate or severe food insecurity based on \\nthe Food Insecurity Experience Scale (FIES). \\nUpdated global and regional estimates of the \\nprevalence of food insecurity by sex and by \\ndegree of urbanization are also provided. \\nSection 2.2  presents improved estimates of the \\ncost and of the affordability of a healthy diet, \\ncovering 2017 to 2022, contributing information \\nabout economic access to diverse, nutritious \\nfoods globally. This year’s assessment reflects \\nthe latest food price data released by the \\nInternational Comparison Program (ICP) and \\nthe methodological refinements to improve the \\nestimates of affordability. Section 2.3  presents \\nanalyses of the state of nutrition in the world \\nand progress towards the global nutrition \\ntargets that were defined by the World Health\\n\\n\\n _____________ \\n\\n\\ncleaning, sorting, packaging, transportation, \\nstorage and wholesaling of agricultural \\nand food products. \\nModerate food insecurity\\nRefers to the level of severity of food insecurity, \\nbased on the Food Insecurity Experience Scale, at \\nwhich people face uncertainties about their ability \\nto obtain food and have been forced to reduce, \\nat times during the year, the quality and/or \\nquantity of food they consume due to lack of \\nmoney or other resources. It thus refers to a lack \\nof consistent access to food, which diminishes \\ndietary quality, disrupts normal eating patterns, \\nand can have negative consequences for nutrition, \\nhealth and well-being. \\nNutrition transition\\nAs incomes rise and populations become more \\nurban, diets high in complex carbohydrates and\\n\\n\\n _____________ \\n\\n\\nFinancing for Development in June and July 2025.\\n2024\\nThe State of Food Security \\nand Nutrition in the World 2024 \\n(supplementary material)',\n",
       "  'Sources': [['/Users/rushabhrunwal/Downloads/SOFI_pdfs/SOFI-2024.pdf:253:5',\n",
       "    210.116943359375],\n",
       "   ['/Users/rushabhrunwal/Downloads/SOFI_pdfs/SOFI-2024.pdf:0:0',\n",
       "    231.15966796875],\n",
       "   ['/Users/rushabhrunwal/Downloads/SOFI_pdfs/SOFI-2024.pdf:34:1',\n",
       "    233.25912475585938],\n",
       "   ['/Users/rushabhrunwal/Downloads/SOFI_pdfs/SOFI-2023.pdf:277:4',\n",
       "    239.8634033203125],\n",
       "   ['/Users/rushabhrunwal/Downloads/SOFI_pdfs/SOFI-2024.pdf:285:4',\n",
       "    240.33331342677727]]},\n",
       " 'Explain malnutrition in war zones': {'Response': \" The provided context does not explicitly mention malnutrition in war zones. However, it does imply that various forms of malnutrition are expected to increase globally due to the current crises, though the exact impact on war zones is yet to be measured comprehensively.\\n\\nIn general, malnutrition in war zones can take several forms. Chronic malnutrition (also known as undernutrition) refers to deficiencies in energy and nutrient intake over a long period of time, resulting in slowed growth and development. Acute malnutrition occurs when there is an immediate lack of food or the body's nutritional requirements are not met due to illness, displacement, or conflict. Both forms can have severe health consequences, including increased susceptibility to disease, stunted physical and cognitive development, and in some cases, death.\\n\\nAdditionally, the context mentions the double burden of malnutrition, which refers to the co-existence of undernutrition (undernourishment, micronutrient deficiencies) and overnutrition (overweight, obesity) within a population or an individual. This is particularly relevant in war zones where access to food may be limited, leading to undernutrition, but there may also be disruptions to normal daily activities (such as cooking or exercise), contributing to overnutrition due to sedentary lifestyles and stress-induced eating behaviors.\\n\\nIn war zones, factors such as displacement, destruction of infrastructure, disruption of agricultural systems, and limited access to healthcare services can all contribute to increased malnutrition rates. These situations require urgent attention and intervention strategies that address the immediate needs for food and nutrition while also addressing the underlying causes of conflict and instability. Such interventions may include emergency food aid, support for local agriculture, and provision of essential micronutrient supplements, as well as longer-term initiatives to promote peace and stability in affected regions.\",\n",
       "  'context_texts': 'pathways for the pandemic to impact child \\nnutrition along with potential risks stemming \\nfrom the war in Ukraine. Although the effects \\nof the current crises on malnutrition are not yet \\nfully reflected in the updates presented in this \\nedition of the report, due either to data sparsity or \\nto the long-term impact of some of the nutritional \\noutcomes, negative impacts on various forms \\nof malnutrition are expected at the global level. \\nAny potential global consequences of the war \\nin Ukraine on malnutrition are also yet to be \\nmeasured comprehensively. The global trends \\nin prevalence and absolute numbers for five \\nnutrition indicators are summarized in Figure\\xa012.\\nThe latest estimate for low birthweight reveals \\nthat 14.7\\xa0percent of newborns (19.8\\xa0million) were\\n\\n\\n _____________ \\n\\n\\n(GLOBAL REPORT ON FOOD CRISES)\\nPREVALENCE OF UNDERNOURISHMENT\\n(THE STATE OF FOOD SECURITY AND NUTRITION IN THE WORLD)\\n| 15 |\\n\\n\\n _____________ \\n\\n\\nmost affected by hunger, food insecurity \\nand malnutrition. n\\n| 113 |\\n\\n\\n _____________ \\n\\n\\nand ensure universal access to healthier and more \\nsustainable diets. This\\xa0section further provides a \\nprogress assessment of the 45\\xa0countries currently \\nclassified as least developed countries (LDCs) by \\nthe United Nations, and an analysis of the double \\nburden of malnutrition occurring in different \\nstages of life, as the world witnesses a gradual \\ndecline in undernutrition alongside the growing \\noverweight and obesity epidemic.\\nAssessing malnutrition through the life course \\nlens42 highlights the critical timing of nutrition \\ninterventions in each period, from pre-conception, \\npregnancy and lactation, through infancy, \\nchildhood, adolescence, adulthood and older age. \\nExposure to environmental factors during these \\nwindows has the potential to shape the health\\n\\n\\n _____________ \\n\\n\\nand obesity by leveraging the common drivers shared \\nby all forms of malnutrition. Such actions include \\nprovision of antenatal care, exclusive breastfeeding, \\nprovision of healthy, nutritious foods to children \\nduring the complementary feeding period and \\nbeyond, school-feeding programmes, micronutrient \\nsupplementation, social protection, nutrition-sensitive \\nagriculture, food fortification, and policies that improve \\nthe food environment.\\nNutrition is a maker and a marker of \\ndevelopment.36 The benefits of good nutrition \\nhave widespread ripple effects, from families to \\ncommunities, regions and nations. Malnutrition, \\non the other hand, hinders national progress and \\ndeeply compromises the health, development \\nand well-being of present and future generations.',\n",
       "  'Sources': [['/Users/rushabhrunwal/Downloads/SOFI_pdfs/SOFI-2023.pdf:61:4',\n",
       "    285.1794128417969],\n",
       "   ['/Users/rushabhrunwal/Downloads/SOFI_pdfs/SOFI-2023.pdf:44:4',\n",
       "    299.9013671875],\n",
       "   ['/Users/rushabhrunwal/Downloads/SOFI_pdfs/SOFI-2024.pdf:144:6',\n",
       "    300.44732666015625],\n",
       "   ['/Users/rushabhrunwal/Downloads/SOFI_pdfs/SOFI-2024.pdf:63:4',\n",
       "    302.5335388183594],\n",
       "   ['/Users/rushabhrunwal/Downloads/SOFI_pdfs/SOFI-2024.pdf:63:1',\n",
       "    308.0860900878906]]},\n",
       " 'Explain increase prices impact on food security': {'Response': ' The context provided discusses the impact of increasing food prices on food security. Higher food prices can have a detrimental effect on food security, particularly for vulnerable households in certain regions. This is because a healthy diet becomes less affordable with rising prices, placing an additional burden on these households.\\n\\nIn 2022, the average cost of a healthy diet globally increased to 3.96 purchasing power parity (PPP) dollars per person per day, up from 3.56 PPP dollars in 2021. This price hike was caused by various factors such as disruptions from the COVID-19 pandemic and the war in Ukraine, which led to significant increases in international food and energy prices, thereby exacerbating inflationary pressures.\\n\\nMoreover, countries that are heavily dependent on food imports were particularly affected by this rise in international food prices. The world food import bill reached an all-time high of nearly USD 2 trillion in 2022, resulting from the increased cost of food imports. In addition to these factors, higher energy and natural gas prices caused a soar in global agricultural input costs, which led to further price increases at local and national levels.\\n\\nIn summary, increasing food prices can have a negative impact on food security by making healthy diets less affordable for vulnerable households, particularly in regions such as sub-Saharan Africa and Southern Asia, where rapid urbanization is leading to rising and changing food demand.',\n",
       "  'context_texts': 'increases in the opportunity cost of time related \\nto work, lifestyle changes and demographic shifts, \\nis changing food demand. These factors together \\nwith many supply-side considerations, including \\nfood pricing, marketing and promotion, among \\nothers, in turn are changing agrifood systems, so \\nthere is a reinforcing compounding effect on the \\nfood produced, supplied and consumed. \\nMost notably, rapid urbanization is leading \\nto rising and changing food demand, and \\nshifts in patterns of food supply – especially \\nin sub-Saharan Africa and Southern Asia, the \\ntwo regions exhibiting the highest urbanization \\nrates. Projections of overall food expenditure \\nestimate an approximate 2.5-fold increase in \\nsub-Saharan Africa and a 1.7-fold increase in \\nSouthern Asia by 2050.\\n\\n\\n _____________ \\n\\n\\nCHAPTER 2  FOOD SECURITY AND NUTRITION AROUND THE WORLD\\nagriculture may even benefit from higher prices \\nfor their agricultural products.d,\\xa010 \\nd Poverty assessments conducted during the food price crises of \\n2008 and 2011 demonstrated that higher food prices have the potential \\nto boost agricultural income growth and wages. 10\\nThe stalled situation in global hunger observed \\nfor 2022 is thus the result of the interaction \\nof these two factors. The economic recovery \\nhelped to stem the rising tide of hunger at \\nleast at the global level. However, the positive \\neffect could have been even greater without \\nthe countervailing winds caused by the global \\n BOX 1   HOW DOES THE EVIDENCE ON CHRONIC FOOD INSECURITY ALIGN WITH THE EVIDENCE ON ACUTE \\nFOOD INSECURITY IN FOOD CRISIS COUNTRIES?\\n\\n\\n _____________ \\n\\n\\nwith increasing prices and inequalities, has made \\na healthy diet less affordable especially in some \\nregions, placing an additional burden on the \\nmost vulnerable households. \\n| 28 |\\n\\n\\n _____________ \\n\\n\\ncost and more accurate estimates of the affordability of \\na healthy diet, leading to a revision of the entire series of \\nboth sets of indicators. \\nè Food prices rose throughout 2022, pushing \\nup the average cost of a healthy diet globally to \\n3.96\\xa0purchasing power parity (PPP) dollars per \\nperson per day, up from 3.56 PPP dollars in 2021. \\nDisruptions from the COVID-19 pandemic and the \\nwar in Ukraine contributed to significant increases in \\ninternational food and energy prices, exacerbating \\ninflationary pressures.\\n»\\n| 22 |\\n\\n\\n _____________ \\n\\n\\nthroughout the year, it remained much higher \\nthan before the pandemic.5  As a result of the \\nhigh international food prices, import costs of \\nfood rose, affecting especially countries that are \\nhighly dependent on food imports. The world \\nfood import bill was estimated to have reached \\nan all-time high in 2022 of nearly USD\\xa02\\xa0trillion, \\nan increase of 10\\xa0percent (nearly USD\\xa0181\\xa0billion) \\nfrom the 2021 level, driven mostly by higher \\nprices.6  World fertilizer prices also soared, \\nmainly as a result of rising energy and natural \\ngas prices. The global agricultural input import \\nbill was estimated to increase by 48\\xa0percent in \\n2022 to USD\\xa0424\\xa0billion. 7  All of these factors \\nhave contributed to higher prices of food at the \\nlocal and national levels, which in turn have',\n",
       "  'Sources': [['/Users/rushabhrunwal/Downloads/SOFI_pdfs/SOFI-2023.pdf:24:1',\n",
       "    296.3524169921875],\n",
       "   ['/Users/rushabhrunwal/Downloads/SOFI_pdfs/SOFI-2023.pdf:43:0',\n",
       "    298.9586181640625],\n",
       "   ['/Users/rushabhrunwal/Downloads/SOFI_pdfs/SOFI-2023.pdf:57:6',\n",
       "    300.0792236328125],\n",
       "   ['/Users/rushabhrunwal/Downloads/SOFI_pdfs/SOFI-2024.pdf:53:5',\n",
       "    300.5302734375],\n",
       "   ['/Users/rushabhrunwal/Downloads/SOFI_pdfs/SOFI-2023.pdf:41:2',\n",
       "    300.81610107421875]]},\n",
       " 'Compare list of Food insecurity reason in 2023 and 2024': {'Response': ' Based on the provided context, there is no direct comparison between the reasons for food insecurity in 2023 and 2024 as the report only provides information up to 2023. However, it mentions that global hunger and food insecurity remained at high levels in 2023, with the following factors contributing: climatic, economic, social, and political instability. These factors can lead to acute or chronic food insecurity. The report does not explicitly mention any changes in these factors from 2023 to 2024. Therefore, without further information or a new report for 2024, it is impossible to compare the reasons for food insecurity between these two years.',\n",
       "  'context_texts': 'lead to acute food insecurity) or medium- \\nto long-term instability (which can lead to \\nchronic food insecurity). Climatic, economic, \\nsocial and political factors can all be a source \\nof instability. \\nThe report also refers to two additional \\ndimensions of food security that are proposed \\nby the High Level Panel of Experts of the \\nCommittee on World Food Security; however, \\nthey are not formally agreed upon by FAO or \\nothers, and an agreed upon language has not\\n\\n\\n _____________ \\n\\n\\nof moderate or severe food insecurity based on \\nthe Food Insecurity Experience Scale (FIES). \\nUpdated global and regional estimates of the \\nprevalence of food insecurity by sex and by \\ndegree of urbanization are also provided. \\nSection 2.2  presents improved estimates of the \\ncost and of the affordability of a healthy diet, \\ncovering 2017 to 2022, contributing information \\nabout economic access to diverse, nutritious \\nfoods globally. This year’s assessment reflects \\nthe latest food price data released by the \\nInternational Comparison Program (ICP) and \\nthe methodological refinements to improve the \\nestimates of affordability. Section 2.3  presents \\nanalyses of the state of nutrition in the world \\nand progress towards the global nutrition \\ntargets that were defined by the World Health\\n\\n\\n _____________ \\n\\n\\nGoing beyond hunger, the global prevalence \\nof moderate or severe food insecurity \\n(SDG Indicator\\xa02.1.2) also remains far above \\npre-pandemic levels, with little change in four \\nyears, after the sharp increase from 2019 to 2020 \\nduring the pandemic. In\\xa02023, an estimated \\n| xviii |\\n\\n\\n _____________ \\n\\n\\nTHE STATE OF FOOD SECURITY AND NUTRITION IN THE WORLD 2023\\n| 247 |\\nfood, and access to clean water, sanitation and \\nhealthcare. Combined with good biological \\nutilization of food consumed, this determines \\nthe nutritional status of individuals.\\nd.  Stability – If the dimensions of availability, \\naccess and utilization are sufficiently met, \\nstability is the condition in which the whole \\nsystem is stable, thus ensuring that households \\nare food secure at all times. Stability issues \\ncan refer to short-term instability (which can \\nlead to acute food insecurity) or medium- \\nto long-term instability (which can lead to \\nchronic food insecurity). Climatic, economic, \\nsocial and political factors can all be a source \\nof instability. \\nThe report also refers to two additional\\n\\n\\n _____________ \\n\\n\\nfood security and nutrition challenges are \\nessential. The theme of this year’s report focuses \\non the financing to meet SDG Targets\\xa02.1 and\\xa02.2 \\n– financing to end hunger, food insecurity and \\nmalnutrition in all its forms.\\nFOOD SECURITY AND NUTRITION \\nAROUND THE WORLD\\nFood security indicators: latest updates \\nand progress towards ending hunger \\nand ensuring food security\\nThe assessment of global hunger in \\n2023, measured by the prevalence of \\nundernourishment (PoU) (SDG Indicator\\xa02.1.1) \\nreveals a continuing lack of progress towards \\nthe goal of Zero Hunger. After rising sharply \\nfrom 2019 to 2021, the proportion of the world \\npopulation facing hunger persisted at virtually \\nthe same level for three consecutive years, \\nwith\\xa0the latest estimates indicating a global PoU',\n",
       "  'Sources': [['/Users/rushabhrunwal/Downloads/SOFI_pdfs/SOFI-2024.pdf:253:5',\n",
       "    218.6543426513672],\n",
       "   ['/Users/rushabhrunwal/Downloads/SOFI_pdfs/SOFI-2024.pdf:34:1',\n",
       "    219.4553680419922],\n",
       "   ['/Users/rushabhrunwal/Downloads/SOFI_pdfs/SOFI-2024.pdf:19:5',\n",
       "    226.60781860351562],\n",
       "   ['/Users/rushabhrunwal/Downloads/SOFI_pdfs/SOFI-2023.pdf:276:0',\n",
       "    235.74957275390625],\n",
       "   ['/Users/rushabhrunwal/Downloads/SOFI_pdfs/SOFI-2024.pdf:19:2',\n",
       "    236.32949829101562]]},\n",
       " 'Percentage increase in global hunger': {'Response': \" According to the provided context, it is estimated that between 2019 and 2022, global hunger increased by approximately 122 million people, which represents an increase of around 15.3% (from 7.9% in 2019 to 9.2% in 2022). However, it's important to note that the data for 2023 is not provided in the context, so the percentage increase from 2022 to 2023 cannot be determined from this information.\",\n",
       "  'context_texts': 'FOOD SECURITY  AND NUTRITION IN THE WORLD\\nTHE STATE OF \\nURBANIZATION, AGRIFOOD SYSTEMS \\nTRANSFORMATION AND HEALTHY DIETS \\nACROSS THE RURAL–URBAN CONTINUUM\\nThis report provides an update on global progress towards the targets of ending hunger (SDG Target 2.1) \\nand all forms of malnutrition (SDG Target 2.2). It shows that hunger at the global level remained \\nrelatively stable between 2021 and 2022, but is still far above pre-COVID-19-pandemic levels and is \\nalso rising in many places where people are still struggling to recover income losses in the wake of the \\npandemic or have been affected by increasing prices of food, agricultural inputs and energy, conflicts \\nand/or extreme climate events. The report also provides updated estimates on the billions of people who\\n\\n\\n _____________ \\n\\n\\nKEY MESSAGES\\nè Global hunger, measured by the prevalence \\nof undernourishment (Sustainable Development \\nGoal [SDG] Indicator 2.1.1), remained relatively \\nunchanged from 2021 to 2022 but is still far above \\npre-COVID-19-pandemic levels, affecting around \\n9.2\\xa0percent of the world population in 2022 compared \\nwith 7.9\\xa0percent in 2019.\\nè It is estimated that between 691 and 783\\xa0million \\npeople in the world faced hunger in 2022. \\nConsidering the midrange (about 735\\xa0million), \\n122\\xa0million more people faced hunger in 2022 than in \\n2019, before the global pandemic.\\nè From 2021 to 2022, progress was made towards \\nreducing hunger in Asia and in Latin America, but \\nhunger is still on the rise in Western Asia, the Caribbean \\nand all subregions of Africa.\\n\\n\\n _____________ \\n\\n\\nCHAPTER 2  FOOD SECURITY AND NUTRITION AROUND THE WORLD\\nrose sharply from 2019 to 2020 followed by a \\nsmaller increase in 2021, and then rose faster \\nagain for two consecutive years, reaching \\n16.0 percent (70.4 million people) in 2023. \\nHunger also increased, albeit more slowly, in the \\nsubregion with the lowest PoU in the continent, \\nNorthern Africa, affecting 7 .8 percent of the \\npopulation (20.7\\xa0million people) in 2023. \\nThe trend in hunger in Asia mirrored that at the \\nglobal level, characterized by a sharp increase \\nfrom 2019 to 2021, followed by two years of \\nvirtually no change, with 8.1 percent of the \\npopulation still facing hunger in 2023. \\nIn Central Asia, following an increase from \\n2.6 percent in 2019 to 3.2 percent in 2020, the \\nPoU decreased slightly in subsequent years to\\n\\n\\n _____________ \\n\\n\\nand nearly 57\\xa0million more since the outbreak \\nof the pandemic. Moreover, hunger increased \\nthroughout all subregions of Africa in 2022. The \\nPoU in Northern Africa rose from 6.9\\xa0percent to \\n7 .5\\xa0percent, equivalent to nearly 2\\xa0million more \\npeople facing hunger in 2022. In sub-Saharan \\nAfrica, hunger increased from 22.2\\xa0percent to \\n22.5\\xa0percent, which translates into 9\\xa0million more \\npeople compared to 2021. The largest increase in \\nPoU occurred in Southern Africa, at 1.1\\xa0percentage \\npoints, followed by Middle Africa with an \\nincrease of 0.6\\xa0percentage points. Marginal \\nincreases of 0.1\\xa0percentage points occurred in \\nWestern and Eastern Africa from 2021 to 2022. \\n FIGURE 1   GLOBAL HUNGER REMAINED VIRTUALLY UNCHANGED FROM 2021 TO 2022 BUT IS STILL FAR \\nABOVE PRE-COVID-19-PANDEMIC LEVELS\\n0\\n\\n\\n _____________ \\n\\n\\nfood security and nutrition challenges are \\nessential. The theme of this year’s report focuses \\non the financing to meet SDG Targets\\xa02.1 and\\xa02.2 \\n– financing to end hunger, food insecurity and \\nmalnutrition in all its forms.\\nFOOD SECURITY AND NUTRITION \\nAROUND THE WORLD\\nFood security indicators: latest updates \\nand progress towards ending hunger \\nand ensuring food security\\nThe assessment of global hunger in \\n2023, measured by the prevalence of \\nundernourishment (PoU) (SDG Indicator\\xa02.1.1) \\nreveals a continuing lack of progress towards \\nthe goal of Zero Hunger. After rising sharply \\nfrom 2019 to 2021, the proportion of the world \\npopulation facing hunger persisted at virtually \\nthe same level for three consecutive years, \\nwith\\xa0the latest estimates indicating a global PoU',\n",
       "  'Sources': [['/Users/rushabhrunwal/Downloads/SOFI_pdfs/SOFI-2023.pdf:315:0',\n",
       "    261.3888854980469],\n",
       "   ['/Users/rushabhrunwal/Downloads/SOFI_pdfs/SOFI-2023.pdf:17:0',\n",
       "    268.6422119140625],\n",
       "   ['/Users/rushabhrunwal/Downloads/SOFI_pdfs/SOFI-2024.pdf:37:0',\n",
       "    273.7225341796875],\n",
       "   ['/Users/rushabhrunwal/Downloads/SOFI_pdfs/SOFI-2023.pdf:37:1',\n",
       "    275.1018371582031],\n",
       "   ['/Users/rushabhrunwal/Downloads/SOFI_pdfs/SOFI-2024.pdf:19:2',\n",
       "    279.9558410644531]]},\n",
       " 'Percentage prevalence of undernourishment, Low Birthweight, and stunting.': {'Response': \"1. Under-nourishment (Global): The percentage prevalence of undernourishment varies across regions, but according to World Bank data for 2019, the global average was approximately 8.4%. This means that 8.4% of the world's population is undernourished.\\n\\n  2. Low Birthweight (Global): The percentage of low birthweight newborns worldwide in 2019 was about 14.6%. This indicates that, on average, for every 100 live births, 14.6 are classified as low birthweight.\\n\\n  3. Stunting (Global): The global prevalence of stunting among children under the age of five in 2019 was approximately 22%. This means that about one-fifth (20%) of children under five years old are stunted, which can result from chronic malnutrition during their first 1000 days of life.\\n\\nThese percentages provide a snapshot of the prevalence of these conditions on a global scale and should be used as a reference for understanding their impact. However, it's important to note that these numbers can vary significantly within regions and countries due to factors like economic status, access to healthcare, and nutrition practices.\",\n",
       "  'context_texts': 'REGIONS/\\nSUBREGIONS/\\nCOUNTRIES/\\nTERRITORIES         \\nPREVALENCE OF \\nUNDERNOURISHMENT IN \\nTHE TOTAL POPULATION1\\nPREVALENCE OF SEVERE \\nFOOD INSECURITY IN THE \\nTOTAL POPULATION1, 2, 3\\nPREVALENCE OF \\nMODERATE OR SEVERE \\nFOOD INSECURITY IN THE \\nTOTAL POPULATION1, 2, 3\\nPREVALENCE OF WASTING \\nIN CHILDREN (<5 YEARS)\\nPREVALENCE OF \\nSTUNTING IN CHILDREN \\n(<5 YEARS)\\nPREVALENCE OF \\nOVERWEIGHT IN \\nCHILDREN (<5 YEARS)\\nPREVALENCE OF \\nOBESITY IN THE ADULT \\nPOPULATION (≥18 YEARS)\\nPREVALENCE OF \\nANAEMIA IN WOMEN \\n(15–49 YEARS)\\nPREVALENCE \\nOF EXCLUSIVE \\nBREASTFEEDING AMONG \\nINFANTS (0–5 MONTHS)\\nPREVALENCE OF LOW \\nBIRTHWEIGHT\\n2004–06 2020–224 2014–16 2020–22 2014–16 2020–22 20225 2012 2022 2012 2022 2012 2016 2012 2019 20126 20217 2012 2020\\n\\n\\n _____________ \\n\\n\\nREGIONS/\\nSUBREGIONS/\\nCOUNTRIES/\\nTERRITORIES         \\nPREVALENCE OF \\nUNDERNOURISHMENT IN \\nTHE TOTAL POPULATION1\\nPREVALENCE OF SEVERE \\nFOOD INSECURITY IN THE \\nTOTAL POPULATION1, 2, 3\\nPREVALENCE OF \\nMODERATE OR SEVERE \\nFOOD INSECURITY IN THE \\nTOTAL POPULATION1, 2, 3\\nPREVALENCE OF WASTING \\nIN CHILDREN (<5 YEARS)\\nPREVALENCE OF \\nSTUNTING IN CHILDREN \\n(<5 YEARS)\\nPREVALENCE OF \\nOVERWEIGHT IN \\nCHILDREN (<5 YEARS)\\nPREVALENCE OF \\nOBESITY IN THE ADULT \\nPOPULATION (≥18 YEARS)\\nPREVALENCE OF \\nANAEMIA IN WOMEN \\n(15–49 YEARS)\\nPREVALENCE \\nOF EXCLUSIVE \\nBREASTFEEDING AMONG \\nINFANTS (0–5 MONTHS)\\nPREVALENCE OF LOW \\nBIRTHWEIGHT\\n2004–06 2020–224 2014–16 2020–22 2014–16 2020–22 20225 2012 2022 2012 2022 2012 2016 2012 2019 20126 20217 2012 2020\\n\\n\\n _____________ \\n\\n\\nREGIONS/\\nSUBREGIONS/\\nCOUNTRIES/\\nTERRITORIES         \\nPREVALENCE OF \\nUNDERNOURISHMENT IN \\nTHE TOTAL POPULATION1\\nPREVALENCE OF SEVERE \\nFOOD INSECURITY IN THE \\nTOTAL POPULATION1, 2, 3\\nPREVALENCE OF \\nMODERATE OR SEVERE \\nFOOD INSECURITY IN THE \\nTOTAL POPULATION1, 2, 3\\nPREVALENCE OF WASTING \\nIN CHILDREN (<5 YEARS)\\nPREVALENCE OF \\nSTUNTING IN CHILDREN \\n(<5 YEARS)\\nPREVALENCE OF \\nOVERWEIGHT IN \\nCHILDREN (<5 YEARS)\\nPREVALENCE OF \\nOBESITY IN THE ADULT \\nPOPULATION (≥18 YEARS)\\nPREVALENCE OF \\nANAEMIA IN WOMEN \\n(15–49 YEARS)\\nPREVALENCE \\nOF EXCLUSIVE \\nBREASTFEEDING AMONG \\nINFANTS (0–5 MONTHS)\\nPREVALENCE OF LOW \\nBIRTHWEIGHT\\n2004–06 2020–224 2014–16 2020–22 2014–16 2020–22 20225 2012 2022 2012 2022 2012 2016 2012 2019 20126 20217 2012 2020\\n\\n\\n _____________ \\n\\n\\nREGIONS/\\nSUBREGIONS/\\nCOUNTRIES/\\nTERRITORIES         \\nPREVALENCE OF \\nUNDERNOURISHMENT IN \\nTHE TOTAL POPULATION1\\nPREVALENCE OF SEVERE \\nFOOD INSECURITY IN THE \\nTOTAL POPULATION1, 2, 3\\nPREVALENCE OF \\nMODERATE OR SEVERE \\nFOOD INSECURITY IN THE \\nTOTAL POPULATION1, 2, 3\\nPREVALENCE OF WASTING \\nIN CHILDREN (<5 YEARS)\\nPREVALENCE OF \\nSTUNTING IN CHILDREN \\n(<5 YEARS)\\nPREVALENCE OF \\nOVERWEIGHT IN \\nCHILDREN (<5 YEARS)\\nPREVALENCE OF \\nOBESITY IN THE ADULT \\nPOPULATION (≥18 YEARS)\\nPREVALENCE OF \\nANAEMIA IN WOMEN \\n(15–49 YEARS)\\nPREVALENCE \\nOF EXCLUSIVE \\nBREASTFEEDING AMONG \\nINFANTS (0–5 MONTHS)\\nPREVALENCE OF LOW \\nBIRTHWEIGHT\\n2004–06 2020–224 2014–16 2020–22 2014–16 2020–22 20225 2012 2022 2012 2022 2012 2016 2012 2019 20126 20217 2012 2020\\n\\n\\n _____________ \\n\\n\\nREGIONS/\\nSUBREGIONS/\\nCOUNTRIES/\\nTERRITORIES         \\nPREVALENCE OF \\nUNDERNOURISHMENT IN \\nTHE TOTAL POPULATION1\\nPREVALENCE OF SEVERE \\nFOOD INSECURITY IN THE \\nTOTAL POPULATION1, 2, 3\\nPREVALENCE OF \\nMODERATE OR SEVERE \\nFOOD INSECURITY IN THE \\nTOTAL POPULATION1, 2, 3\\nPREVALENCE OF WASTING \\nIN CHILDREN (<5 YEARS)\\nPREVALENCE OF \\nSTUNTING IN CHILDREN \\n(<5 YEARS)\\nPREVALENCE OF \\nOVERWEIGHT IN \\nCHILDREN (<5 YEARS)\\nPREVALENCE OF \\nOBESITY IN THE ADULT \\nPOPULATION (≥18 YEARS)\\nPREVALENCE OF \\nANAEMIA IN WOMEN \\n(15–49 YEARS)\\nPREVALENCE \\nOF EXCLUSIVE \\nBREASTFEEDING AMONG \\nINFANTS (0–5 MONTHS)\\nPREVALENCE OF LOW \\nBIRTHWEIGHT\\n2004–06 2020–224 2014–16 2020–22 2014–16 2020–22 20225 2012 2022 2012 2022 2012 2016 2012 2019 20126 20217 2012 2020',\n",
       "  'Sources': [['/Users/rushabhrunwal/Downloads/SOFI_pdfs/SOFI-2023.pdf:189:0',\n",
       "    240.48104858398438],\n",
       "   ['/Users/rushabhrunwal/Downloads/SOFI_pdfs/SOFI-2023.pdf:183:0',\n",
       "    240.48104858398438],\n",
       "   ['/Users/rushabhrunwal/Downloads/SOFI_pdfs/SOFI-2023.pdf:178:0',\n",
       "    240.48104858398438],\n",
       "   ['/Users/rushabhrunwal/Downloads/SOFI_pdfs/SOFI-2023.pdf:184:0',\n",
       "    240.48104858398438],\n",
       "   ['/Users/rushabhrunwal/Downloads/SOFI_pdfs/SOFI-2023.pdf:180:0',\n",
       "    240.48104858398438]]}}"
      ]
     },
     "execution_count": 129,
     "metadata": {},
     "output_type": "execute_result"
    }
   ],
   "source": [
    "Submission_data"
   ]
  },
  {
   "cell_type": "code",
   "execution_count": 130,
   "metadata": {},
   "outputs": [
    {
     "name": "stdout",
     "output_type": "stream",
     "text": [
      "Defaulting to user installation because normal site-packages is not writeable\n",
      "Requirement already satisfied: pandas in /Users/rushabhrunwal/Library/Python/3.9/lib/python/site-packages (2.2.3)\n",
      "Requirement already satisfied: python-dateutil>=2.8.2 in /Users/rushabhrunwal/Library/Python/3.9/lib/python/site-packages (from pandas) (2.9.0.post0)\n",
      "Requirement already satisfied: numpy>=1.22.4 in /Users/rushabhrunwal/Library/Python/3.9/lib/python/site-packages (from pandas) (1.26.4)\n",
      "Requirement already satisfied: tzdata>=2022.7 in /Users/rushabhrunwal/Library/Python/3.9/lib/python/site-packages (from pandas) (2024.2)\n",
      "Requirement already satisfied: pytz>=2020.1 in /Users/rushabhrunwal/Library/Python/3.9/lib/python/site-packages (from pandas) (2024.2)\n",
      "Requirement already satisfied: six>=1.5 in /Library/Developer/CommandLineTools/Library/Frameworks/Python3.framework/Versions/3.9/lib/python3.9/site-packages (from python-dateutil>=2.8.2->pandas) (1.15.0)\n",
      "\u001b[33mWARNING: You are using pip version 21.2.4; however, version 24.3.1 is available.\n",
      "You should consider upgrading via the '/Library/Developer/CommandLineTools/usr/bin/python3 -m pip install --upgrade pip' command.\u001b[0m\n"
     ]
    }
   ],
   "source": [
    "!pip3 install pandas"
   ]
  },
  {
   "cell_type": "code",
   "execution_count": 131,
   "metadata": {},
   "outputs": [],
   "source": [
    "import pandas as pd"
   ]
  },
  {
   "cell_type": "code",
   "execution_count": 132,
   "metadata": {},
   "outputs": [],
   "source": [
    "# Convert the nested dictionary to a DataFrame\n",
    "Submission_df = pd.DataFrame.from_dict(Submission_data, orient='index')\n",
    "\n",
    "# Reset the index and rename it to \"query\"\n",
    "Submission_df.reset_index(inplace=True)\n",
    "Submission_df.rename(columns={'index': 'query'}, inplace=True)"
   ]
  },
  {
   "cell_type": "code",
   "execution_count": 133,
   "metadata": {},
   "outputs": [
    {
     "data": {
      "text/html": [
       "<div>\n",
       "<style scoped>\n",
       "    .dataframe tbody tr th:only-of-type {\n",
       "        vertical-align: middle;\n",
       "    }\n",
       "\n",
       "    .dataframe tbody tr th {\n",
       "        vertical-align: top;\n",
       "    }\n",
       "\n",
       "    .dataframe thead th {\n",
       "        text-align: right;\n",
       "    }\n",
       "</style>\n",
       "<table border=\"1\" class=\"dataframe\">\n",
       "  <thead>\n",
       "    <tr style=\"text-align: right;\">\n",
       "      <th></th>\n",
       "      <th>query</th>\n",
       "      <th>Response</th>\n",
       "      <th>context_texts</th>\n",
       "      <th>Sources</th>\n",
       "    </tr>\n",
       "  </thead>\n",
       "  <tbody>\n",
       "    <tr>\n",
       "      <th>0</th>\n",
       "      <td>Explain increase prices impact on food securit...</td>\n",
       "      <td>The increases in global food prices throughou...</td>\n",
       "      <td>cost and more accurate estimates of the afford...</td>\n",
       "      <td>[[/Users/rushabhrunwal/Downloads/SOFI_pdfs/SOF...</td>\n",
       "    </tr>\n",
       "    <tr>\n",
       "      <th>1</th>\n",
       "      <td>List major Food insecurity reason in 2024</td>\n",
       "      <td>1. Climatic factors: These can include extreme...</td>\n",
       "      <td>lead to acute food insecurity) or medium- \\nto...</td>\n",
       "      <td>[[/Users/rushabhrunwal/Downloads/SOFI_pdfs/SOF...</td>\n",
       "    </tr>\n",
       "    <tr>\n",
       "      <th>2</th>\n",
       "      <td>Explain malnutrition in war zones</td>\n",
       "      <td>The provided context does not explicitly ment...</td>\n",
       "      <td>pathways for the pandemic to impact child \\nnu...</td>\n",
       "      <td>[[/Users/rushabhrunwal/Downloads/SOFI_pdfs/SOF...</td>\n",
       "    </tr>\n",
       "    <tr>\n",
       "      <th>3</th>\n",
       "      <td>Explain increase prices impact on food security</td>\n",
       "      <td>The context provided discusses the impact of ...</td>\n",
       "      <td>increases in the opportunity cost of time rela...</td>\n",
       "      <td>[[/Users/rushabhrunwal/Downloads/SOFI_pdfs/SOF...</td>\n",
       "    </tr>\n",
       "    <tr>\n",
       "      <th>4</th>\n",
       "      <td>Compare list of Food insecurity reason in 2023...</td>\n",
       "      <td>Based on the provided context, there is no di...</td>\n",
       "      <td>lead to acute food insecurity) or medium- \\nto...</td>\n",
       "      <td>[[/Users/rushabhrunwal/Downloads/SOFI_pdfs/SOF...</td>\n",
       "    </tr>\n",
       "    <tr>\n",
       "      <th>5</th>\n",
       "      <td>Percentage increase in global hunger</td>\n",
       "      <td>According to the provided context, it is esti...</td>\n",
       "      <td>FOOD SECURITY  AND NUTRITION IN THE WORLD\\nTHE...</td>\n",
       "      <td>[[/Users/rushabhrunwal/Downloads/SOFI_pdfs/SOF...</td>\n",
       "    </tr>\n",
       "    <tr>\n",
       "      <th>6</th>\n",
       "      <td>Percentage prevalence of undernourishment, Low...</td>\n",
       "      <td>1. Under-nourishment (Global): The percentage ...</td>\n",
       "      <td>REGIONS/\\nSUBREGIONS/\\nCOUNTRIES/\\nTERRITORIES...</td>\n",
       "      <td>[[/Users/rushabhrunwal/Downloads/SOFI_pdfs/SOF...</td>\n",
       "    </tr>\n",
       "  </tbody>\n",
       "</table>\n",
       "</div>"
      ],
      "text/plain": [
       "                                               query  \\\n",
       "0  Explain increase prices impact on food securit...   \n",
       "1          List major Food insecurity reason in 2024   \n",
       "2                  Explain malnutrition in war zones   \n",
       "3    Explain increase prices impact on food security   \n",
       "4  Compare list of Food insecurity reason in 2023...   \n",
       "5               Percentage increase in global hunger   \n",
       "6  Percentage prevalence of undernourishment, Low...   \n",
       "\n",
       "                                            Response  \\\n",
       "0   The increases in global food prices throughou...   \n",
       "1  1. Climatic factors: These can include extreme...   \n",
       "2   The provided context does not explicitly ment...   \n",
       "3   The context provided discusses the impact of ...   \n",
       "4   Based on the provided context, there is no di...   \n",
       "5   According to the provided context, it is esti...   \n",
       "6  1. Under-nourishment (Global): The percentage ...   \n",
       "\n",
       "                                       context_texts  \\\n",
       "0  cost and more accurate estimates of the afford...   \n",
       "1  lead to acute food insecurity) or medium- \\nto...   \n",
       "2  pathways for the pandemic to impact child \\nnu...   \n",
       "3  increases in the opportunity cost of time rela...   \n",
       "4  lead to acute food insecurity) or medium- \\nto...   \n",
       "5  FOOD SECURITY  AND NUTRITION IN THE WORLD\\nTHE...   \n",
       "6  REGIONS/\\nSUBREGIONS/\\nCOUNTRIES/\\nTERRITORIES...   \n",
       "\n",
       "                                             Sources  \n",
       "0  [[/Users/rushabhrunwal/Downloads/SOFI_pdfs/SOF...  \n",
       "1  [[/Users/rushabhrunwal/Downloads/SOFI_pdfs/SOF...  \n",
       "2  [[/Users/rushabhrunwal/Downloads/SOFI_pdfs/SOF...  \n",
       "3  [[/Users/rushabhrunwal/Downloads/SOFI_pdfs/SOF...  \n",
       "4  [[/Users/rushabhrunwal/Downloads/SOFI_pdfs/SOF...  \n",
       "5  [[/Users/rushabhrunwal/Downloads/SOFI_pdfs/SOF...  \n",
       "6  [[/Users/rushabhrunwal/Downloads/SOFI_pdfs/SOF...  "
      ]
     },
     "execution_count": 133,
     "metadata": {},
     "output_type": "execute_result"
    }
   ],
   "source": [
    "Submission_df"
   ]
  },
  {
   "cell_type": "code",
   "execution_count": 134,
   "metadata": {},
   "outputs": [],
   "source": [
    "# Save the DataFrame to a CSV file\n",
    "Submission_df.to_csv('Submission_data.csv', index=False)"
   ]
  }
 ],
 "metadata": {
  "accelerator": "GPU",
  "colab": {
   "gpuType": "A100",
   "provenance": []
  },
  "kernelspec": {
   "display_name": "Python 3",
   "name": "python3"
  },
  "language_info": {
   "codemirror_mode": {
    "name": "ipython",
    "version": 3
   },
   "file_extension": ".py",
   "mimetype": "text/x-python",
   "name": "python",
   "nbconvert_exporter": "python",
   "pygments_lexer": "ipython3",
   "version": "3.9.6"
  }
 },
 "nbformat": 4,
 "nbformat_minor": 0
}
